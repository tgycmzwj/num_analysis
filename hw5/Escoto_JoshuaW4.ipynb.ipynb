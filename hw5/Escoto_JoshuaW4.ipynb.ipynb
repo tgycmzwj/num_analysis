{
 "cells": [
  {
   "cell_type": "code",
   "execution_count": null,
   "metadata": {},
   "outputs": [],
   "source": [
    "from pprint import pprint\n",
    "from numpy import array, zeros, diag, diagflat, dot"
   ]
  },
  {
   "cell_type": "code",
   "execution_count": null,
   "metadata": {},
   "outputs": [],
   "source": [
    "def jacobi(A,b,N=25,x=None):  \n",
    "    \n",
    "    if x is None:\n",
    "        x = zeros(len(A[0]))                                                                                                                                                                   \n",
    "    D = diag(A)\n",
    "    R = A - diagflat(D)\n",
    "    \n",
    "    for i in range(N):\n",
    "        x = (b - dot(R,x)) / D\n",
    "        \n",
    "    return x\n",
    "\n",
    "A = array([[2.0,1.0],[5.0,7.0]])\n",
    "b = array([11.0,13.0])\n",
    "guess = array([1.0,1.0])\n",
    "\n",
    "sol = jacobi(A,b,N=40,x=guess)\n",
    "\n",
    "print (\"A:\")\n",
    "pprint(A)\n",
    "\n",
    "print (\"b:\")\n",
    "pprint(b)\n",
    "\n",
    "print (\"x:\")\n",
    "pprint(sol)"
   ]
  },
  {
   "cell_type": "markdown",
   "metadata": {},
   "source": [
    "A:\n",
    "array([[2., 1.],\n",
    "       [5., 7.]])\n",
    "b:\n",
    "array([11., 13.])\n",
    "x:\n",
    "array([ 7.1111111 , -3.22222222])\n",
    "A: array([[2., 1.], [5., 7.]]) b: array([11., 13.]) x: array([ 7.1111111 , -3.22222222])"
   ]
  }
 ],
 "metadata": {
  "kernelspec": {
   "display_name": "Python 3",
   "language": "python",
   "name": "python3"
  },
  "language_info": {
   "codemirror_mode": {
    "name": "ipython",
    "version": 3
   },
   "file_extension": ".py",
   "mimetype": "text/x-python",
   "name": "python",
   "nbconvert_exporter": "python",
   "pygments_lexer": "ipython3",
   "version": "3.7.6"
  }
 },
 "nbformat": 4,
 "nbformat_minor": 4
}
