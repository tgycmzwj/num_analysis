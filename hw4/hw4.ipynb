{
 "cells": [
  {
   "cell_type": "markdown",
   "metadata": {},
   "source": [
    "# Part I. Root-finding. Newton's iteration."
   ]
  },
  {
   "cell_type": "markdown",
   "metadata": {},
   "source": [
    "Write a function which performs Newton's iteration for a given function $f(x)$ with known derivative $f'(x)$. Your function should find the root of $f(x)$ with a predefined absolute accuracy $\\epsilon$. "
   ]
  },
  {
   "cell_type": "code",
   "execution_count": 4,
   "metadata": {},
   "outputs": [],
   "source": [
    "import numpy as np\n",
    "def newton_iteration(f, fder, x0, eps=1e-5, maxiter=1000):\n",
    "    \"\"\"Find a root of $f(x) = 0$ via Newton's iteration starting from x0.\n",
    "    \n",
    "    Parameters\n",
    "    ----------\n",
    "    f : callable\n",
    "        The function to find a root of.\n",
    "    fder : callable\n",
    "        The derivative of `f`.\n",
    "    x0 : float\n",
    "        Initial value for the Newton's iteration.\n",
    "    eps : float\n",
    "        The target accuracy. \n",
    "        The iteration stops when the distance between successive iterates is below `eps`.\n",
    "        Default is 1e-5.\n",
    "    maxiter : int\n",
    "        The maximum number of iterations (default is 1000.)\n",
    "        Iterations terminate if the number of iterations exceeds `maxiter`.\n",
    "        This parameter is only needed to avoid infinite loops if iterations wander off.\n",
    "        \n",
    "    Returns\n",
    "    -------\n",
    "    x : float\n",
    "        The estimate for the root.\n",
    "    niter : int\n",
    "        The number of iterations.\n",
    "    \"\"\"\n",
    "    x_old=x0\n",
    "    x_new=x_old-f(x_old)/fder(x_old)\n",
    "    iters=0\n",
    "    while ((np.abs(x_new-x_old)>eps) and (iters<maxiter)):\n",
    "        x_old=x_new\n",
    "        x_new=x_old-f(x_old)/fder(x_old)\n",
    "        iters=iters+1\n",
    "    return x_new,iters"
   ]
  },
  {
   "cell_type": "markdown",
   "metadata": {},
   "source": [
    "### Test I.1 \n",
    "\n",
    "Test your implementation on a simple example, $f(x) = x^2 - 1$ or similar. (20% of the total grade)"
   ]
  },
  {
   "cell_type": "code",
   "execution_count": 5,
   "metadata": {},
   "outputs": [
    {
     "data": {
      "text/plain": [
       "(1.000000000000001, 4)"
      ]
     },
     "execution_count": 5,
     "metadata": {},
     "output_type": "execute_result"
    }
   ],
   "source": [
    "# ... ENTER YOUR CODE HERE ...\n",
    "def f(x):\n",
    "    return x**2-1\n",
    "def fder(x):\n",
    "    return 2*x\n",
    "x0=2\n",
    "newton_iteration(f, fder, x0, eps=1e-5, maxiter=1000)"
   ]
  },
  {
   "cell_type": "markdown",
   "metadata": {},
   "source": [
    "### Test I.2\n",
    "\n",
    "Now consider a function which has a multiple root. Take $f(x) = (x^2 - 1)^2$ as an example. Implement a modified Newton's iteraion,\n",
    "\n",
    "$$\n",
    "x_{n+1} = x_{n} - m \\frac{f(x_n)}{f'(x_n)}\n",
    "$$\n",
    "\n",
    "and vary $m= 1, 2, 3, 4, 5$. Check the number of iterations required for convergence within a fixed $\\epsilon$. Are your observations consistent with the expectation that the convergence is quadratic is $m$ equals the multiplicity of the root, and is linear otherwise? (40% of the total grade)"
   ]
  },
  {
   "cell_type": "code",
   "execution_count": 8,
   "metadata": {},
   "outputs": [
    {
     "name": "stdout",
     "output_type": "stream",
     "text": [
      "when m= 1  ,it takers  17  iterations to converge to 1.0000078296573287\n",
      "when m= 2  ,it takers  4  iterations to converge to 1.000000000000001\n",
      "when m= 3  ,it takers  16  iterations to converge to 0.9999978588127855\n",
      "when m= 4  ,it takers  1000  iterations to converge to 0.5\n",
      "when m= 5  ,it takers  1000  iterations to converge to 2.132311483601499\n"
     ]
    }
   ],
   "source": [
    "# ... ENTER YOUR CODE HERE ...\n",
    "def newton_iteration_new(f, fder, x0, m=1, eps=1e-5, maxiter=1000):\n",
    "    x_old=x0\n",
    "    x_new=x_old-m*f(x_old)/fder(x_old)\n",
    "    iters=0\n",
    "    while ((np.abs(x_new-x_old)>eps) and (iters<maxiter)):\n",
    "        x_old=x_new\n",
    "        x_new=x_old-m*f(x_old)/fder(x_old)\n",
    "        iters=iters+1\n",
    "    return x_new,iters\n",
    "def f(x):\n",
    "    return (x**2-1)**2\n",
    "def fder(x):\n",
    "    return 2*(x**2-1)*2*x\n",
    "for m in range(1,6):\n",
    "    x,iters=newton_iteration_new(f,fder,x0=2, m=m)\n",
    "    print(\"when m=\",m,\" ,it takers \",iters,\" iterations to converge to\", x)\n"
   ]
  },
  {
   "cell_type": "markdown",
   "metadata": {},
   "source": [
    "# Part II. Fixed-point iteration"
   ]
  },
  {
   "cell_type": "markdown",
   "metadata": {},
   "source": [
    "Consider the following equation:\n",
    "\n",
    "$$\n",
    "\\sqrt{x} = \\cos{x}\n",
    "$$\n",
    "\n",
    "Plot the left-hand side and right-hand side of this equation, and localize the root graphically. Estimate the location of the root by visual inspection of the plot.\n",
    "\n",
    "Write a function which finds the solution using fixed-point iteration up to a predefined accuracy $\\epsilon$. Compare the result to an estimate from a visual inspection.\n",
    "\n",
    "Next, rewrite the fixed-point problem in the form\n",
    "\n",
    "$$\n",
    "x = x - \\alpha f(x)\n",
    "$$\n",
    "\n",
    "where $\\alpha$ is the free parameter. Check the dependence of the number of iterations required for a given $\\epsilon$ on $\\alpha$. Compare your results to an expectation that the optimal value of $\\alpha$ is given by \n",
    "\n",
    "$$\n",
    "\\alpha = \\frac{2}{m + M}\n",
    "$$\n",
    "\n",
    "where $0 < m < |f'(x)| < M$ over the localization interval. (40% of the total grade)"
   ]
  },
  {
   "cell_type": "code",
   "execution_count": 15,
   "metadata": {},
   "outputs": [
    {
     "data": {
      "image/png": "[encoded data removed]",
      "text/plain": [
       "<Figure size 432x288 with 1 Axes>"
      ]
     },
     "metadata": {
      "needs_background": "light"
     },
     "output_type": "display_data"
    }
   ],
   "source": [
    "# ... ENTER YOUR CODE HERE ...\n",
    "import matplotlib.pyplot as plt\n",
    "%matplotlib inline\n",
    "a=np.arange(0.5,1,0.01)\n",
    "plt.plot(a,np.sqrt(a))\n",
    "plt.plot(a,np.cos(a))\n",
    "#plt.plot(a,0.5/np.sqrt(a)+np.sin(a))\n",
    "plt.show()"
   ]
  },
  {
   "cell_type": "code",
   "execution_count": 19,
   "metadata": {},
   "outputs": [
    {
     "name": "stdout",
     "output_type": "stream",
     "text": [
      "when alpha= 0.5  ,number of iterations= 10\n",
      "when alpha= 0.6  ,number of iterations= 8\n",
      "when alpha= 0.7  ,number of iterations= 5\n",
      "when alpha= 0.8  ,number of iterations= 3\n",
      "when alpha= 0.9  ,number of iterations= 5\n",
      "when alpha= 1  ,number of iterations= 7\n",
      "when alpha= 1.1  ,number of iterations= 10\n",
      "when alpha= 1.2  ,number of iterations= 14\n"
     ]
    }
   ],
   "source": [
    "#let f=x^0.5-cos(x), then, f'=0.5*x^(-0.5)+sin(x) over the interval of 0.5-1, m=1.18,M=1.34, alpha=2/(1.18+1.34)=0.8\n",
    "alphas=[0.5,0.6,0.7,0.8,0.9,1,1.1,1.2]\n",
    "def fp_iteration(phi,x,alpha,eps=1e-5,max_iter=1000):\n",
    "    x_old=x\n",
    "    x_new=phi(x_old,alpha)\n",
    "    iters=0\n",
    "    while((iters<max_iter) and (np.abs(x_new-x_old)>eps)):\n",
    "        x_old=x_new\n",
    "        x_new=phi(x_old,alpha)\n",
    "        iters=iters+1\n",
    "    return iters\n",
    "def phi(x,alpha):\n",
    "    return x-alpha*(np.sqrt(x)-np.cos(x))\n",
    "for alpha in alphas:\n",
    "    print(\"when alpha=\",alpha,\" ,number of iterations=\",fp_iteration(phi,0.5,alpha))"
   ]
  },
  {
   "cell_type": "markdown",
   "metadata": {},
   "source": [
    "# Part III. Newton's fractal.\n",
    "\n",
    "(Not graded). \n",
    "\n",
    "Consider the equation\n",
    "\n",
    "$$\n",
    "x^3 = 1\n",
    "$$\n",
    "\n",
    "It has three solutions in the complex plane, $x_k = \\exp(i\\, 2\\pi k/ 3)$, $k = 0, 1, 2$.\n",
    "\n",
    "The Newton's iterations converge to one of these solutions, depending on the starting point in the complex plane (to converge to a complex-valued solution, the iteration needs a complex-valued starting point).\n",
    "\n",
    "Plot the \\emph{basins of attraction} of these roots on the complex plane of $x$ (i.e., on the plane $\\mathrm{Re}x$ -- $\\mathrm{Im}x$). To this end, make a series of calculations, varying the initial conditions on a grid of points. \n",
    "Color the grid in three colors, according to the root, to which iterations converged."
   ]
  },
  {
   "cell_type": "code",
   "execution_count": null,
   "metadata": {
    "collapsed": true
   },
   "outputs": [],
   "source": []
  }
 ],
 "metadata": {
  "kernelspec": {
   "display_name": "Python 3",
   "language": "python",
   "name": "python3"
  },
  "language_info": {
   "codemirror_mode": {
    "name": "ipython",
    "version": 3
   },
   "file_extension": ".py",
   "mimetype": "text/x-python",
   "name": "python",
   "nbconvert_exporter": "python",
   "pygments_lexer": "ipython3",
   "version": "3.7.3"
  }
 },
 "nbformat": 4,
 "nbformat_minor": 2
}
