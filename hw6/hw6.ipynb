{
 "cells": [
  {
   "cell_type": "markdown",
   "metadata": {},
   "source": [
    "# I. Linear least squares approximation"
   ]
  },
  {
   "cell_type": "markdown",
   "metadata": {},
   "source": [
    "Consider a function $y = f(x)$ which is defined by a set of values $y_0, y_1, \\cdots, y_n$ at points $x_0, x_1, \\cdots, x_n$."
   ]
  },
  {
   "cell_type": "code",
   "execution_count": 35,
   "metadata": {},
   "outputs": [],
   "source": [
    "x = [-1, -0.7, -0.43, -0.14, -0.14, 0.43, 0.71, 1, 1.29, 1.57, 1.86, 2.14, 2.43, 2.71, 3]\n",
    "y = [-2.25, -0.77, 0.21, 0.44, 0.64, 0.03, -0.22, -0.84, -1.2, -1.03, -0.37, 0.61, 2.67, 5.04, 8.90]\n"
   ]
  },
  {
   "cell_type": "markdown",
   "metadata": {},
   "source": [
    "### I.I. Find a best fit polynomial\n",
    "\n",
    "$$\n",
    "P_m(x) = a_0 + a_1 x + \\cdots + a_m x^m\n",
    "$$\n",
    "\n",
    "using the linear least squares approach. To this end\n",
    "\n",
    "1. implement a function which constructs the design matrix using $1, x, \\cdots, x^m$ as the basis functions.\n",
    "\n",
    "2. construct explicitly the normal system of equations of the linear least squares problem at fixed $m$.\n",
    "\n",
    "3. Solve the normal equations to find the coefficients of $P_m(x)$ for $m = 0, 1, 2, \\dots$. For the linear algebra problem, you can either use library functions (`numpy.linalg.solve`) or your LU factorization code from week 1.\n",
    "\n",
    "(20% of the total grade)"
   ]
  },
  {
   "cell_type": "code",
   "execution_count": 36,
   "metadata": {},
   "outputs": [
    {
     "name": "stdout",
     "output_type": "stream",
     "text": [
      "When fit with  1 th order polynomial, the coefficients are  [[-0.6479869 ]\n",
      " [ 1.46502399]]\n",
      "When fit with  2 th order polynomial, the coefficients are  [[-1.25772058]\n",
      " [-0.65313865]\n",
      " [ 1.0667959 ]]\n",
      "When fit with  3 th order polynomial, the coefficients are  [[ 0.49483598]\n",
      " [-0.26983377]\n",
      " [-2.01973166]\n",
      " [ 1.01540301]]\n",
      "When fit with  4 th order polynomial, the coefficients are  [[ 0.51184244]\n",
      " [-0.33857023]\n",
      " [-2.05689291]\n",
      " [ 1.08931365]\n",
      " [-0.01872316]]\n",
      "When fit with  5 th order polynomial, the coefficients are  [[ 0.53158296]\n",
      " [-0.24431123]\n",
      " [-2.15174437]\n",
      " [ 0.99954653]\n",
      " [ 0.07265921]\n",
      " [-0.01835276]]\n",
      "When fit with  6 th order polynomial, the coefficients are  [[ 0.58335489]\n",
      " [-0.21341539]\n",
      " [-2.47667914]\n",
      " [ 1.08743364]\n",
      " [ 0.3156542 ]\n",
      " [-0.17478186]\n",
      " [ 0.02574425]]\n",
      "When fit with  7 th order polynomial, the coefficients are  [[ 0.5744677 ]\n",
      " [-0.13006497]\n",
      " [-2.3829579 ]\n",
      " [ 0.80842609]\n",
      " [ 0.3196533 ]\n",
      " [ 0.0116892 ]\n",
      " [-0.06899496]\n",
      " [ 0.01366621]]\n",
      "When fit with  8 th order polynomial, the coefficients are  [[ 0.53749247]\n",
      " [-0.37095534]\n",
      " [-2.06051935]\n",
      " [ 1.53912236]\n",
      " [-0.54617266]\n",
      " [-0.22834563]\n",
      " [ 0.51017192]\n",
      " [-0.21721566]\n",
      " [ 0.02885626]]\n",
      "When fit with  9 th order polynomial, the coefficients are  [[ 0.50918977]\n",
      " [-0.43758312]\n",
      " [-1.67901126]\n",
      " [ 1.61523566]\n",
      " [-1.43465946]\n",
      " [ 0.2020901 ]\n",
      " [ 0.91271625]\n",
      " [-0.64210815]\n",
      " [ 0.16431079]\n",
      " [-0.01477536]]\n"
     ]
    }
   ],
   "source": [
    "# ... ENTER YOUR CODE HERE\n",
    "import numpy as np\n",
    "def poly_fit(x,y,m):\n",
    "    num_obs=len(x)\n",
    "    x=np.array(x)\n",
    "    X=np.zeros([num_obs,m+1])\n",
    "    y=np.array(y).reshape([-1,1])\n",
    "    for power in range(m+1):\n",
    "        X[:,power]=x**power\n",
    "    return np.dot(np.linalg.inv(np.dot(X.T,X)),np.dot(X.T,y))\n",
    "for m in [1,2,3,4,5,6,7,8,9]:\n",
    "    a=poly_fit(x,y,m)\n",
    "    print(\"When fit with \",m,\"th order polynomial, the coefficients are \",a)"
   ]
  },
  {
   "cell_type": "markdown",
   "metadata": {},
   "source": [
    "### I.II \n",
    "\n",
    "To find the optimal value of m, use the following criterion: take $m=0, 1, 2, \\dots$, for each value of $m$ compute \n",
    "\n",
    "$$\n",
    "\\sigma_m^2 = \\frac{1}{n - m} \\sum_{k=0}^n \\left( P_m(x_k) - y_k \\right)^2\n",
    "$$\n",
    "\n",
    "And take the value of $m$, at which $\\sigma_m$ stabilizes or starts increasing.\n",
    "\n",
    "(20% of the total grade)"
   ]
  },
  {
   "cell_type": "code",
   "execution_count": 37,
   "metadata": {},
   "outputs": [
    {
     "name": "stdout",
     "output_type": "stream",
     "text": [
      "When fit with  1 th order polynomial, the prediction error is  4.4502158667062055\n",
      "When fit with  2 th order polynomial, the prediction error is  2.4534269975791783\n",
      "When fit with  3 th order polynomial, the prediction error is  0.012470899099731626\n",
      "When fit with  4 th order polynomial, the prediction error is  0.012460407583510065\n",
      "When fit with  5 th order polynomial, the prediction error is  0.012600059280330624\n",
      "When fit with  6 th order polynomial, the prediction error is  0.011590813700606687\n",
      "When fit with  7 th order polynomial, the prediction error is  0.012289041756436612\n",
      "When fit with  8 th order polynomial, the prediction error is  0.011569371524733585\n",
      "When fit with  9 th order polynomial, the prediction error is  0.012931045182330226\n"
     ]
    }
   ],
   "source": [
    "# ... ENTER YOUR CODE HERE ...\n",
    "def compute_error(x,y,m):\n",
    "    coefficients=poly_fit(x,y,m)\n",
    "    num_obs=len(x)\n",
    "    x=np.array(x)\n",
    "    X=np.zeros([num_obs,m+1])\n",
    "    y=np.array(y).reshape([-1,1])\n",
    "    for power in range(m+1):\n",
    "        X[:,power]=x**power\n",
    "    prediction=np.dot(X,coefficients)\n",
    "    return 1/(num_obs-m)*np.sum((prediction-y)**2)\n",
    "for m in [1,2,3,4,5,6,7,8,9]:\n",
    "    e=compute_error(x,y,m)\n",
    "    print(\"When fit with \",m,\"th order polynomial, the prediction error is \",e)"
   ]
  },
  {
   "cell_type": "markdown",
   "metadata": {},
   "source": [
    "Plot your polynomials $P_m(x)$ on one plot, together with the datapoints. Visually compare best-fit polynomials of different degrees. Is the visual comparison consistent with the optimal value of $m$?"
   ]
  },
  {
   "cell_type": "code",
   "execution_count": 39,
   "metadata": {},
   "outputs": [
    {
     "data": {
      "image/png": "[encoded data removed]",
      "text/plain": [
       "<Figure size 432x288 with 1 Axes>"
      ]
     },
     "metadata": {
      "needs_background": "light"
     },
     "output_type": "display_data"
    }
   ],
   "source": [
    "# ... ENTER YOUR CODE HERE\n",
    "import matplotlib.pyplot as plt\n",
    "%matplotlib inline\n",
    "plt.plot(x,y,'bo')\n",
    "for m in [6]:\n",
    "    coefficients=poly_fit(x,y,m)\n",
    "    x_test=np.arange(-2,4,0.01)\n",
    "    X_test=np.zeros([len(x_test),m+1])\n",
    "    for power in range(m+1):\n",
    "        X_test[:,power]=x_test**power\n",
    "    y_test=np.dot(X_test,coefficients)\n",
    "    plt.plot(x_test,y_test)\n",
    "        "
   ]
  },
  {
   "cell_type": "markdown",
   "metadata": {},
   "source": [
    "### I.III. Linear least-squares using the QR factorization.\n",
    "\n",
    "For the optimal value of $m$ from the previous part, solve the LLS problem using the QR factorization, withou ever forming the normal equations explicitly. For linear algebra, you can use standard library functions (look up `numpy.linalg.solve`, `numpy.linalg.qr` etc) or your code from previous weeks.\n",
    "\n",
    "Compare the results with the results of solving the normal system of equations.\n",
    "\n",
    "(20% of the grade)"
   ]
  },
  {
   "cell_type": "code",
   "execution_count": 40,
   "metadata": {},
   "outputs": [
    {
     "data": {
      "text/plain": [
       "array([[ 0.58335489],\n",
       "       [-0.21341539],\n",
       "       [-2.47667914],\n",
       "       [ 1.08743364],\n",
       "       [ 0.3156542 ],\n",
       "       [-0.17478186],\n",
       "       [ 0.02574425]])"
      ]
     },
     "execution_count": 40,
     "metadata": {},
     "output_type": "execute_result"
    }
   ],
   "source": [
    "# ... ENTER YOUR CODE HERE ...\n",
    "#The equation is y=Xb---> (X'X)b=X'y\n",
    "def ls_qr(x,y,m):\n",
    "    num_obs=len(x)\n",
    "    x=np.array(x)\n",
    "    X=np.zeros([num_obs,m+1])\n",
    "    y=np.array(y).reshape([-1,1])\n",
    "    for power in range(m+1):\n",
    "        X[:,power]=x**power\n",
    "    return np.linalg.solve(np.dot(X.T,X),np.dot(X.T,y))\n",
    "b_new=ls_qr(x,y,6)\n",
    "b_new"
   ]
  },
  {
   "cell_type": "markdown",
   "metadata": {},
   "source": [
    "# II. Lagrange interpolation"
   ]
  },
  {
   "cell_type": "markdown",
   "metadata": {},
   "source": [
    "### II.1 \n",
    "\n",
    "Consider the function, $f(x) = x^2 \\cos{x}$. On the interval $x\\in [\\pi/2, \\pi]$, interpolate the function using the Lagrange interpolating polynomial of degree $m$ with $m=1, 2, 3, 4, 5$. Use the uniform mesh. Plot the resulting interpolants together with $f(x)$.\n",
    "\n",
    "(20% of the total grade)"
   ]
  },
  {
   "cell_type": "code",
   "execution_count": 45,
   "metadata": {},
   "outputs": [
    {
     "data": {
      "image/png": "[encoded data removed]",
      "text/plain": [
       "<Figure size 432x288 with 1 Axes>"
      ]
     },
     "metadata": {
      "needs_background": "light"
     },
     "output_type": "display_data"
    }
   ],
   "source": [
    "# ... ENTER YOUR CODE HERE ...\n",
    "import matplotlib.pyplot as plt\n",
    "import math\n",
    "%matplotlib inline\n",
    "def lagrange_k(xval,xk,k):\n",
    "    n=len(xk)\n",
    "    term=1.0\n",
    "    for j in range(n):\n",
    "        if j==k:\n",
    "            continue\n",
    "        num=xval-xk[j]\n",
    "        den=xk[k]-xk[j]\n",
    "        term*=num/den\n",
    "    return term\n",
    "def lagrange(xval,xk,yk):\n",
    "    return sum(yk[j]*lagrange_k(xval,xk,j) for j in range(len(xk)))\n",
    "def plot_interp(func,nodes,add_legend=True):\n",
    "    yy=func(nodes)\n",
    "    xn=np.linspace(math.pi/2,math.pi,100)\n",
    "    yn=[lagrange(_,nodes,yy) for _ in xn]\n",
    "    #plot\n",
    "    plt.plot(xn,yn,'-',alpha=0.7,label=r'interp,$n=%s$' %len(nodes))\n",
    "    plt.plot(xn,func(xn),label=r'$f(x)$')\n",
    "    plt.plot(nodes,yy,'o')\n",
    "    if add_legend:\n",
    "        plt.legend(loc='best')\n",
    "nodes=np.linspace(math.pi/2,math.pi,5)\n",
    "plot_interp(lambda x:(x**2)*np.cos(x),nodes)"
   ]
  },
  {
   "cell_type": "markdown",
   "metadata": {},
   "source": [
    "### II.2. \n",
    "\n",
    "Repeat the previous task using the Chebyshev nodes. Compare the quality of interpolation on a uniform mesh and Chebyshev nodes for $m=3$.\n",
    "\n",
    "(20% of the total grade)"
   ]
  },
  {
   "cell_type": "code",
   "execution_count": 49,
   "metadata": {},
   "outputs": [
    {
     "data": {
      "image/png": "[encoded data removed]",
      "text/plain": [
       "<Figure size 432x288 with 1 Axes>"
      ]
     },
     "metadata": {
      "needs_background": "light"
     },
     "output_type": "display_data"
    }
   ],
   "source": [
    "# ... ENTER YOUR CODE HERE \n",
    "#the interval is [a,b], need to adjust chebyshev nodes according to x=(a+b)/2+(b-a)/2*t\n",
    "def cheb_nodes(n):\n",
    "    k=np.arange(n)\n",
    "    return (np.cos((2*k+1)*np.pi/(2*n)))*0.25*np.pi+0.75*np.pi\n",
    "plot_interp(lambda x:(x**2)*np.cos(x),nodes=cheb_nodes(3))"
   ]
  },
  {
   "cell_type": "code",
   "execution_count": null,
   "metadata": {},
   "outputs": [],
   "source": []
  }
 ],
 "metadata": {
  "kernelspec": {
   "display_name": "Python 3",
   "language": "python",
   "name": "python3"
  },
  "language_info": {
   "codemirror_mode": {
    "name": "ipython",
    "version": 3
   },
   "file_extension": ".py",
   "mimetype": "text/x-python",
   "name": "python",
   "nbconvert_exporter": "python",
   "pygments_lexer": "ipython3",
   "version": "3.7.3"
  }
 },
 "nbformat": 4,
 "nbformat_minor": 4
}
